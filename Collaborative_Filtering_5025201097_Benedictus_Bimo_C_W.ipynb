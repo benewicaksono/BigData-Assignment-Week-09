{
  "nbformat": 4,
  "nbformat_minor": 0,
  "metadata": {
    "colab": {
      "provenance": [],
      "toc_visible": true
    },
    "kernelspec": {
      "name": "python3",
      "display_name": "Python 3"
    },
    "language_info": {
      "name": "python"
    }
  },
  "cells": [
    {
      "cell_type": "markdown",
      "source": [
        "# <h1>BIG DATA ASSIGNMENT WEEK 09 - Collaborative Filtering</h1>\n",
        "\n",
        "*   Nama : Benedictus Bimo C W\n",
        "*   Student ID : 5025201097\n",
        "*   Class : Big Data A"
      ],
      "metadata": {
        "id": "aF-qSbVOtSol"
      }
    },
    {
      "cell_type": "code",
      "source": [
        "!pip install pyspark"
      ],
      "metadata": {
        "id": "Cac4vfX-tUQO",
        "colab": {
          "base_uri": "https://localhost:8080/"
        },
        "outputId": "145771ff-e239-4d90-bfbb-ac45a918fca1"
      },
      "execution_count": 1,
      "outputs": [
        {
          "output_type": "stream",
          "name": "stdout",
          "text": [
            "Looking in indexes: https://pypi.org/simple, https://us-python.pkg.dev/colab-wheels/public/simple/\n",
            "Collecting pyspark\n",
            "  Downloading pyspark-3.3.2.tar.gz (281.4 MB)\n",
            "\u001b[2K     \u001b[90m━━━━━━━━━━━━━━━━━━━━━━━━━━━━━━━━━━━━━━━\u001b[0m \u001b[32m281.4/281.4 MB\u001b[0m \u001b[31m4.3 MB/s\u001b[0m eta \u001b[36m0:00:00\u001b[0m\n",
            "\u001b[?25h  Preparing metadata (setup.py) ... \u001b[?25l\u001b[?25hdone\n",
            "Collecting py4j==0.10.9.5\n",
            "  Downloading py4j-0.10.9.5-py2.py3-none-any.whl (199 kB)\n",
            "\u001b[2K     \u001b[90m━━━━━━━━━━━━━━━━━━━━━━━━━━━━━━━━━━━━━━\u001b[0m \u001b[32m199.7/199.7 kB\u001b[0m \u001b[31m21.8 MB/s\u001b[0m eta \u001b[36m0:00:00\u001b[0m\n",
            "\u001b[?25hBuilding wheels for collected packages: pyspark\n",
            "  Building wheel for pyspark (setup.py) ... \u001b[?25l\u001b[?25hdone\n",
            "  Created wheel for pyspark: filename=pyspark-3.3.2-py2.py3-none-any.whl size=281824028 sha256=24bf2b721cf7be7ee31e683afdff8cdd32b59ff0311ce0ed540a4faa5d139fdd\n",
            "  Stored in directory: /root/.cache/pip/wheels/6c/e3/9b/0525ce8a69478916513509d43693511463c6468db0de237c86\n",
            "Successfully built pyspark\n",
            "Installing collected packages: py4j, pyspark\n",
            "  Attempting uninstall: py4j\n",
            "    Found existing installation: py4j 0.10.9.7\n",
            "    Uninstalling py4j-0.10.9.7:\n",
            "      Successfully uninstalled py4j-0.10.9.7\n",
            "Successfully installed py4j-0.10.9.5 pyspark-3.3.2\n"
          ]
        }
      ]
    },
    {
      "cell_type": "code",
      "source": [
        "from pyspark.ml.evaluation import RegressionEvaluator\n",
        "from pyspark.ml.recommendation import ALS\n",
        "from pyspark.sql import Row, SparkSession"
      ],
      "metadata": {
        "id": "H2AujqDStZdi"
      },
      "execution_count": 2,
      "outputs": []
    },
    {
      "cell_type": "code",
      "source": [
        "# Create a SparkSession\n",
        "spark = SparkSession.builder \\\n",
        "        .master(\"local\") \\\n",
        "        .appName(\"myApp\") \\\n",
        "        .config(\"spark.sql.session.timeZone\", \"UTC\") \\\n",
        "        .config(\"spark.sql.session.timeout\", \"48h\") \\\n",
        "        .getOrCreate()"
      ],
      "metadata": {
        "id": "l6Mc0kO3taFq"
      },
      "execution_count": 3,
      "outputs": []
    },
    {
      "cell_type": "code",
      "source": [
        "lines = spark.read.text(\"./sample_data/sample_movielens_ratings.txt\").rdd\n",
        "parts = lines.map(lambda row: row.value.split(\"::\"))\n",
        "ratingsRDD = parts.map(lambda p: Row(userId=int(p[0]), movieId=int(p[1]),\n",
        "                                     rating=float(p[2]), timestamp=int(p[3])))\n",
        "ratings = spark.createDataFrame(ratingsRDD)\n",
        "(training, test) = ratings.randomSplit([0.8, 0.2])"
      ],
      "metadata": {
        "id": "whoc7vW9ta8D"
      },
      "execution_count": 4,
      "outputs": []
    },
    {
      "cell_type": "markdown",
      "source": [
        "## Build Recomendation model using ALS"
      ],
      "metadata": {
        "id": "j9dTzto2tdJu"
      }
    },
    {
      "cell_type": "code",
      "source": [
        "max_iters = [5, 10, 20]\n",
        "reg_params = [0.1, 0.5, 1.0]\n",
        "\n",
        "results = {}"
      ],
      "metadata": {
        "id": "9p4waKSwtdgw"
      },
      "execution_count": 5,
      "outputs": []
    },
    {
      "cell_type": "markdown",
      "source": [
        "Pada bagian ini, saya menambahkan variabel dengan 3 nilai berbeda dan params dengan 3 nilai berbeda yang akan digunakan."
      ],
      "metadata": {
        "id": "vQQ1mferteZE"
      }
    },
    {
      "cell_type": "code",
      "source": [
        "# Build the recommendation model using ALS on the training data\n",
        "# Note we set cold start strategy to 'drop' to ensure we don't get NaN evaluation metrics\n",
        "for max_iter in max_iters:\n",
        "    for reg_param in reg_params:\n",
        "        als = ALS(maxIter=max_iter, regParam=reg_param, userCol=\"userId\", itemCol=\"movieId\", ratingCol=\"rating\",\n",
        "                  coldStartStrategy=\"drop\")\n",
        "        model = als.fit(training)\n",
        "\n",
        "        predictions = model.transform(test)\n",
        "        evaluator = RegressionEvaluator(metricName=\"rmse\", labelCol=\"rating\",\n",
        "                                        predictionCol=\"prediction\")\n",
        "        rmse = evaluator.evaluate(predictions)\n",
        "\n",
        "        results[(max_iter, reg_param)] = rmse\n",
        "        print(f\"Root-mean-square error for maxIter={max_iter}, regParam={reg_param} = {rmse}\")"
      ],
      "metadata": {
        "id": "e5n_wLxTtgum",
        "colab": {
          "base_uri": "https://localhost:8080/"
        },
        "outputId": "23aeb526-30cc-4d5d-e034-c446c94d47a4"
      },
      "execution_count": 6,
      "outputs": [
        {
          "output_type": "stream",
          "name": "stdout",
          "text": [
            "Root-mean-square error for maxIter=5, regParam=0.1 = 0.9724204860082384\n",
            "Root-mean-square error for maxIter=5, regParam=0.5 = 1.223479671191816\n",
            "Root-mean-square error for maxIter=5, regParam=1.0 = 1.529178557016268\n",
            "Root-mean-square error for maxIter=10, regParam=0.1 = 0.9314489707984631\n",
            "Root-mean-square error for maxIter=10, regParam=0.5 = 1.222495315592619\n",
            "Root-mean-square error for maxIter=10, regParam=1.0 = 1.5291809520926887\n",
            "Root-mean-square error for maxIter=20, regParam=0.1 = 0.9259429927483817\n",
            "Root-mean-square error for maxIter=20, regParam=0.5 = 1.2223256285741142\n",
            "Root-mean-square error for maxIter=20, regParam=1.0 = 1.5291809622717731\n"
          ]
        }
      ]
    },
    {
      "cell_type": "markdown",
      "source": [
        "Dengan referensi kode yang sudah ada, saya menambahkan perulangan untuk *max_iters* *reg_params*."
      ],
      "metadata": {
        "id": "YvxyqyU4tiYQ"
      }
    },
    {
      "cell_type": "code",
      "source": [
        "best_params = min(results, key=results.get)\n",
        "best_rmse = results[best_params]\n",
        "print(f\"\\nBest hyperparameters: maxIter={best_params[0]}, regParam={best_params[1]} with RMSE={best_rmse}\")"
      ],
      "metadata": {
        "colab": {
          "base_uri": "https://localhost:8080/"
        },
        "id": "FPRwvPr3vDpj",
        "outputId": "c1823108-ff02-486b-a991-cfb7532c7f8f"
      },
      "execution_count": 7,
      "outputs": [
        {
          "output_type": "stream",
          "name": "stdout",
          "text": [
            "\n",
            "Best hyperparameters: maxIter=20, regParam=0.1 with RMSE=0.9259429927483817\n"
          ]
        }
      ]
    },
    {
      "cell_type": "markdown",
      "source": [
        "Dari proses Build Recommendation model dengan ALS, didapatkan hasil akhir bahwa *hyperparameters* terbaik ada di maxIter=20, regParam=0.1 dengan RMSE=0.9832103291575914"
      ],
      "metadata": {
        "id": "llzYiv7yvdkU"
      }
    },
    {
      "cell_type": "markdown",
      "source": [
        "## Generate Movie Recomendation"
      ],
      "metadata": {
        "id": "zh2JTWlnvzjn"
      }
    },
    {
      "cell_type": "code",
      "source": [
        "als = ALS(maxIter=best_params[0], regParam=best_params[1], userCol=\"userId\", itemCol=\"movieId\", ratingCol=\"rating\",\n",
        "               coldStartStrategy=\"drop\")\n",
        "model = als.fit(training)"
      ],
      "metadata": {
        "id": "1xxOkmHMv1JW"
      },
      "execution_count": 8,
      "outputs": []
    },
    {
      "cell_type": "markdown",
      "source": [
        "## Results"
      ],
      "metadata": {
        "id": "sQzYinw-v_qF"
      }
    },
    {
      "cell_type": "code",
      "source": [
        "# Generate top 10 movie recommendations for each user\n",
        "userRecs = model.recommendForAllUsers(10)\n",
        "userRecs.show()"
      ],
      "metadata": {
        "colab": {
          "base_uri": "https://localhost:8080/"
        },
        "id": "fFkf0FSQwC1O",
        "outputId": "dddaa4eb-b87b-4fac-869c-2464b063954a"
      },
      "execution_count": 10,
      "outputs": [
        {
          "output_type": "stream",
          "name": "stdout",
          "text": [
            "+------+--------------------+\n",
            "|userId|     recommendations|\n",
            "+------+--------------------+\n",
            "|    20|[{94, 2.7321758},...|\n",
            "|    10|[{92, 3.4005594},...|\n",
            "|     0|[{92, 3.0807102},...|\n",
            "|     1|[{62, 3.1435}, {6...|\n",
            "|    21|[{29, 4.455954}, ...|\n",
            "|    11|[{27, 4.81987}, {...|\n",
            "|    12|[{46, 4.520196}, ...|\n",
            "|    22|[{88, 4.5953846},...|\n",
            "|     2|[{93, 4.562735}, ...|\n",
            "|    13|[{93, 3.2150369},...|\n",
            "|     3|[{51, 4.1657543},...|\n",
            "|    23|[{32, 4.4042273},...|\n",
            "|     4|[{29, 3.431337}, ...|\n",
            "|    24|[{69, 4.547197}, ...|\n",
            "|    14|[{52, 4.4557896},...|\n",
            "|     5|[{55, 3.7784233},...|\n",
            "|    15|[{46, 4.0075283},...|\n",
            "|    25|[{71, 2.6936715},...|\n",
            "|    26|[{22, 4.5666056},...|\n",
            "|     6|[{25, 4.0230966},...|\n",
            "+------+--------------------+\n",
            "only showing top 20 rows\n",
            "\n"
          ]
        }
      ]
    },
    {
      "cell_type": "code",
      "source": [
        "# Generate top 10 user recommendations for each movie\n",
        "movieRecs = model.recommendForAllItems(10)\n",
        "movieRecs.show()"
      ],
      "metadata": {
        "colab": {
          "base_uri": "https://localhost:8080/"
        },
        "id": "D1MpIrt-zO_5",
        "outputId": "e8091d23-93be-439f-c8e5-d9a07ed855e2"
      },
      "execution_count": 11,
      "outputs": [
        {
          "output_type": "stream",
          "name": "stdout",
          "text": [
            "+-------+--------------------+\n",
            "|movieId|     recommendations|\n",
            "+-------+--------------------+\n",
            "|     20|[{17, 3.8925557},...|\n",
            "|     40|[{28, 3.5408556},...|\n",
            "|     10|[{23, 3.5163057},...|\n",
            "|     50|[{23, 3.7053907},...|\n",
            "|     80|[{26, 2.9694862},...|\n",
            "|     70|[{21, 3.0953777},...|\n",
            "|     60|[{22, 2.5950842},...|\n",
            "|     90|[{17, 4.767898}, ...|\n",
            "|     30|[{24, 4.298145}, ...|\n",
            "|      0|[{28, 2.711257}, ...|\n",
            "|     31|[{12, 3.0547762},...|\n",
            "|     81|[{11, 3.4582436},...|\n",
            "|     91|[{12, 2.7460687},...|\n",
            "|      1|[{12, 3.3062055},...|\n",
            "|     41|[{4, 3.0939305}, ...|\n",
            "|     61|[{16, 2.1253796},...|\n",
            "|     51|[{26, 4.4441185},...|\n",
            "|     21|[{26, 2.813866}, ...|\n",
            "|     11|[{18, 3.393278}, ...|\n",
            "|     71|[{12, 2.8515482},...|\n",
            "+-------+--------------------+\n",
            "only showing top 20 rows\n",
            "\n"
          ]
        }
      ]
    },
    {
      "cell_type": "code",
      "source": [
        "# Generate top 10 movie recommendations for a specific set of users\n",
        "users = ratings.select(als.getUserCol()).distinct().limit(3)\n",
        "userSubsetRecs = model.recommendForUserSubset(users, 10)\n",
        "userSubsetRecs.show()"
      ],
      "metadata": {
        "colab": {
          "base_uri": "https://localhost:8080/"
        },
        "id": "x-YfFqYvzQ-y",
        "outputId": "35348a0e-94d3-4b92-a7a8-dc8b46bc3e41"
      },
      "execution_count": 12,
      "outputs": [
        {
          "output_type": "stream",
          "name": "stdout",
          "text": [
            "+------+--------------------+\n",
            "|userId|     recommendations|\n",
            "+------+--------------------+\n",
            "|    26|[{22, 4.5666056},...|\n",
            "|    19|[{90, 3.445723}, ...|\n",
            "|    29|[{90, 3.3752584},...|\n",
            "+------+--------------------+\n",
            "\n"
          ]
        }
      ]
    },
    {
      "cell_type": "code",
      "source": [
        "# Generate top 10 user recommendations for a specific set of movies\n",
        "movies = ratings.select(als.getItemCol()).distinct().limit(3)\n",
        "movieSubSetRecs = model.recommendForItemSubset(movies, 10)\n",
        "movieSubSetRecs.show()"
      ],
      "metadata": {
        "colab": {
          "base_uri": "https://localhost:8080/"
        },
        "id": "3B0I1338zVAn",
        "outputId": "db460181-31ba-4494-cdb7-298b815f7004"
      },
      "execution_count": 13,
      "outputs": [
        {
          "output_type": "stream",
          "name": "stdout",
          "text": [
            "+-------+--------------------+\n",
            "|movieId|     recommendations|\n",
            "+-------+--------------------+\n",
            "|     65|[{23, 4.125318}, ...|\n",
            "|     26|[{28, 2.378064}, ...|\n",
            "|     29|[{21, 4.455954}, ...|\n",
            "+-------+--------------------+\n",
            "\n"
          ]
        }
      ]
    },
    {
      "cell_type": "markdown",
      "source": [
        "## Summary\n",
        "\n",
        "The steps I took to analyze the MovieLens dataset are:\n",
        "1. Load the dataset and preprocessed it, creating training and test sets.\n",
        "2. Tested different combinations of *maxIter* and *regParam*, evaluated the models on the test set, and stored RMSE results in a dictionary.\n",
        "3. Chose the best hyperparameter combination based on the lowest RMSE and displayed the results.\n",
        "4. Trained the model using the best hyperparameters and generated recommendations for all users, all movies, a subset of users, and a subset of movies.\n",
        "5. Lastly, display the top 10 recommendations for each user, movie, and the specified subsets in the output."
      ],
      "metadata": {
        "id": "X0d01Im60Arc"
      }
    }
  ]
}